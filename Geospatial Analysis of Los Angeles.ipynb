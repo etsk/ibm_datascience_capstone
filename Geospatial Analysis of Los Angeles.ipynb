{
 "cells": [
  {
   "cell_type": "markdown",
   "metadata": {},
   "source": [
    "# Geospatial Analysis of Los Angeles \n",
    "\n",
    "### In this notebook, we leverage Foursquare location data to aid us in better understanding the cities in Los Angeles\n",
    "\n",
    "#### Introduction\n",
    "We try to aid people who are thinking of migrating to Los Angeles to better understand the cities, to decide which area may be best suited for them to move into.\n",
    "\n",
    "#### Data\n",
    "The data that we'll be using will mainly come from exploring Foursquare's data of Los Angeles, and along the way we might include other data sources into this workbook."
   ]
  },
  {
   "cell_type": "code",
   "execution_count": null,
   "metadata": {
    "collapsed": true
   },
   "outputs": [],
   "source": []
  }
 ],
 "metadata": {
  "kernelspec": {
   "display_name": "Python 3",
   "language": "python",
   "name": "python3"
  },
  "language_info": {
   "codemirror_mode": {
    "name": "ipython",
    "version": 3
   },
   "file_extension": ".py",
   "mimetype": "text/x-python",
   "name": "python",
   "nbconvert_exporter": "python",
   "pygments_lexer": "ipython3",
   "version": "3.6.8"
  }
 },
 "nbformat": 4,
 "nbformat_minor": 2
}
