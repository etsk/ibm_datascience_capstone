{
 "cells": [
  {
   "cell_type": "markdown",
   "metadata": {},
   "source": [
    "# Geospatial Analysis of Los Angeles \n",
    "\n",
    "### In this notebook, we leverage Foursquare location data to aid us in better understanding the cities in Los Angeles\n",
    "\n",
    "#### Introduction\n",
    "We try to aid people who are thinking of migrating to Los Angeles to better understand the cities, to decide which area may be best suited for them to move into. We assume that an important feature that people consider when making a decision is the type of venues available within the city.\n",
    "\n",
    "#### Data\n",
    "The data that we'll be using will mainly come from exploring Foursquare's data of Los Angeles, and along the way we might include other data sources into this workbook. For Foursquare's data, we will look into the restaurants/landmarks within each city, to find distinct characteristics within the city that we may be able to cluster together."
   ]
  },
  {
   "cell_type": "code",
   "execution_count": null,
   "metadata": {
    "collapsed": true
   },
   "outputs": [],
   "source": []
  }
 ],
 "metadata": {
  "kernelspec": {
   "display_name": "Python 3",
   "language": "python",
   "name": "python3"
  },
  "language_info": {
   "codemirror_mode": {
    "name": "ipython",
    "version": 3
   },
   "file_extension": ".py",
   "mimetype": "text/x-python",
   "name": "python",
   "nbconvert_exporter": "python",
   "pygments_lexer": "ipython3",
   "version": "3.6.8"
  }
 },
 "nbformat": 4,
 "nbformat_minor": 2
}
